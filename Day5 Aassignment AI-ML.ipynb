{
 "cells": [
  {
   "cell_type": "code",
   "execution_count": 72,
   "metadata": {},
   "outputs": [
    {
     "name": "stdout",
     "output_type": "stream",
     "text": [
      "The first 20 non-even prime natural numbers are:\n",
      "3 5 7 11 13 17 19 23 29 31 37 41 43 47 53 59 61 67 71 73 "
     ]
    }
   ],
   "source": [
    "c = 0\n",
    "print(\"The first 20 non-even prime natural numbers are:\")\n",
    "for num in range(3,201):\n",
    "    if num>1:\n",
    "        for i in range(2,num):\n",
    "            if (num%i) ==0:\n",
    "                break\n",
    "        else:\n",
    "            c+=1\n",
    "            print(num,end =\" \")\n",
    "        if c==20:\n",
    "            break"
   ]
  },
  {
   "cell_type": "markdown",
   "metadata": {},
   "source": [
    "__Question 2__:\n",
    "Write a Python program to implement 15 functions of string."
   ]
  },
  {
   "cell_type": "code",
   "execution_count": 27,
   "metadata": {},
   "outputs": [
    {
     "name": "stdout",
     "output_type": "stream",
     "text": [
      "AniketBhagat\n",
      "aNIKET\n",
      "True\n",
      "ANIKETBHAGAT\n",
      "bhagat\n",
      "['AniketBhagat']\n",
      "AniketBhagat\n",
      "True\n",
      "False\n",
      "False\n",
      "Aniketbhagat\n",
      "BhVgVt\n",
      "6\n"
     ]
    }
   ],
   "source": [
    "s = \"Aniket\"\n",
    "s1 = \"Bhagat\"\n",
    "\n",
    "z =s+s1\n",
    "print(z)\n",
    "print(s.swapcase())\n",
    "print(s1.isalpha())\n",
    "print(z.upper())\n",
    "print(s1.lower())\n",
    "print(z.split())\n",
    "print(z.format())\n",
    "print(s.isalnum())\n",
    "print(z.isdecimal())\n",
    "print(s1.islower())\n",
    "print(z.title())\n",
    "print(s1.replace(\"a\",\"V\"))\n",
    "print(len(s1))"
   ]
  },
  {
   "cell_type": "markdown",
   "metadata": {},
   "source": [
    "__Question 3__:\n",
    "Write a Python program to check if the given string is a Palindrome or Anagram or None of them."
   ]
  },
  {
   "cell_type": "code",
   "execution_count": 58,
   "metadata": {},
   "outputs": [
    {
     "name": "stdout",
     "output_type": "stream",
     "text": [
      "madam it is a palindrome\n"
     ]
    }
   ],
   "source": [
    "def checkpalindrome(p):\n",
    "    if p == p[::-1]:\n",
    "        print(p,\"it is a palindrome\")\n",
    "    else:\n",
    "        print(p,\"it is not a palindrome\")\n",
    "        \n",
    "checkpalindrome(\"madam\")"
   ]
  },
  {
   "cell_type": "code",
   "execution_count": 61,
   "metadata": {},
   "outputs": [
    {
     "name": "stdout",
     "output_type": "stream",
     "text": [
      "funeral : real fun , are anagrams\n"
     ]
    }
   ],
   "source": [
    "def checkanagram(s,p):\n",
    "    firstword = list(s)\n",
    "    firstword.sort()\n",
    "    secondword = list(p)\n",
    "    secondword.sort()\n",
    "    if firstword.sort() == secondword.sort():\n",
    "        print(s,\":\",p,\",\",\"are anagrams\")\n",
    "       \n",
    "checkanagram(\"funeral\",\"real fun\")    "
   ]
  },
  {
   "cell_type": "markdown",
   "metadata": {},
   "source": [
    "__Question 4__:\n",
    "Write a Python's user defined function that removes all the additional characters from the string\n",
    "and converts it finally to lower case using built-in lower(). eg: If the string is \"Dr. Darshan Ingle\n",
    "@AI-ML Trainer\", then the output be \"drdarshaningleaimltrainer\""
   ]
  },
  {
   "cell_type": "code",
   "execution_count": 55,
   "metadata": {},
   "outputs": [
    {
     "data": {
      "text/plain": [
       "'DrDarshanIngleAIMLTrainer'"
      ]
     },
     "execution_count": 55,
     "metadata": {},
     "output_type": "execute_result"
    }
   ],
   "source": [
    "a =  \"Dr. Darshan Ingle @AI-ML Trainer\"\n",
    "\n",
    "b = [\".\",\"@\",\"-\",\" \"]\n",
    "for i in b:\n",
    "    a = a.replace(i,'')\n",
    "a "
   ]
  },
  {
   "cell_type": "code",
   "execution_count": 57,
   "metadata": {},
   "outputs": [
    {
     "data": {
      "text/plain": [
       "'drdarshaningleaimltrainer'"
      ]
     },
     "execution_count": 57,
     "metadata": {},
     "output_type": "execute_result"
    }
   ],
   "source": [
    "a =a.lower()\n",
    "a"
   ]
  },
  {
   "cell_type": "code",
   "execution_count": null,
   "metadata": {},
   "outputs": [],
   "source": []
  }
 ],
 "metadata": {
  "kernelspec": {
   "display_name": "Python 3",
   "language": "python",
   "name": "python3"
  },
  "language_info": {
   "codemirror_mode": {
    "name": "ipython",
    "version": 3
   },
   "file_extension": ".py",
   "mimetype": "text/x-python",
   "name": "python",
   "nbconvert_exporter": "python",
   "pygments_lexer": "ipython3",
   "version": "3.7.6"
  }
 },
 "nbformat": 4,
 "nbformat_minor": 4
}
